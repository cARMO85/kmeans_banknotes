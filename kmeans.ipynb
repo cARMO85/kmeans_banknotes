{
 "cells": [
  {
   "cell_type": "code",
   "execution_count": null,
   "metadata": {},
   "outputs": [],
   "source": []
  }
 ],
 "metadata": {
  "kernelspec": {
   "display_name": "Python 3.11.4 ('base': conda)",
   "language": "python",
   "name": "python3"
  },
  "language_info": {
   "name": "python",
   "version": "3.11.4"
  },
  "orig_nbformat": 4,
  "vscode": {
   "interpreter": {
    "hash": "a4a5a32f11017b282be767e64bd7b9493cd8a493c90b2a2c465c5130b05e3fef"
   }
  }
 },
 "nbformat": 4,
 "nbformat_minor": 2
}
